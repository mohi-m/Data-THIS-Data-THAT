{
 "cells": [
  {
   "cell_type": "code",
   "execution_count": null,
   "metadata": {},
   "outputs": [],
   "source": [
    "#write all the above generated blocks of code in a def function named as clean_ram which takes input as a df\n",
    "def clean_ram(df):\n",
    "    # Convert date column to datetime format\n",
    "    df['cu_processing_date'] = pd.to_datetime(df['cu_processing_date'])\n",
    "\n",
    "    # Keep only the latest processing date for each account\n",
    "    latest_df = df.sort_values(by=['cu_processing_date'], ascending=False).drop_duplicates(subset=['cu_account_nbr'], keep='first')\n",
    "\n",
    "    # drop the ca_cash_bal_pct_crd_line column\n",
    "    df = df.drop(columns=['ca_cash_bal_pct_crd_line'])\n",
    "    # irrelevant column as the values are all 0\n",
    "\n",
    "    #drop the cu_nbr_days_dlq column\n",
    "    df = df.drop(columns=['cu_nbr_days_dlq'])\n",
    "    #redundant as theres a simialr column with months which is more useful\n",
    "\n",
    "    #For all values in column cu_crd_bureau_scr , replace the value 0 with median of the column cu_crd_bureau_scr\n",
    "    df['cu_crd_bureau_scr'] = df['cu_crd_bureau_scr'].replace(0, df['cu_crd_bureau_scr'].median())\n",
    "\n",
    "    #drop the column cu_next_crd_line_rev_date\n",
    "    df = df.drop(columns=['cu_next_crd_line_rev_date'])\n",
    "    #irrelevant column as majority values are 0\n",
    "\n",
    "    #dropping columns\n",
    "    useless_col = [\n",
    "        'cu_cur_balance',\n",
    "        'ca_mob',\n",
    "        'cu_rnd_nbr',\n",
    "        'rb_crd_gr_new_crd_gr',\n",
    "        'cu_processing_date',\n",
    "        'mo_tot_sales_array_1',\n",
    "        'mo_tot_sales_array_2',\n",
    "        'mo_tot_sales_array_3',\n",
    "        'mo_tot_sales_array_4',\n",
    "        'mo_tot_sales_array_5',\n",
    "        'mo_tot_sales_array_6'\n",
    "    ]\n",
    "\n",
    "    #Droping the above generated columns\n",
    "    df = df.drop(columns=useless_col)\n",
    "\n",
    "    # for the values 999999999999999 in cu_cash_line_am replace them with 20% of corresponding valur of cu_crd_bureau_scr column \n",
    "    df['cu_cash_line_am'] = df.apply(\n",
    "        lambda row: row['cu_crd_bureau_scr'] * 0.2 if row['cu_cash_line_am'] == 999999999999999 else row['cu_cash_line_am'],\n",
    "        axis=1\n",
    "    )\n",
    "    # round it off to 2 decimal places\n",
    "    df['cu_cash_line_am'] = df['cu_cash_line_am'].round(2)\n",
    "\n",
    "    #drop duplicate rows with duplicate values in the column cu_account_nbr\n",
    "    df = df.drop_duplicates(subset=['cu_account_nbr'])\n",
    "\n",
    "    return df\n"
   ]
  },
  {
   "cell_type": "code",
   "execution_count": null,
   "metadata": {},
   "outputs": [],
   "source": []
  }
 ],
 "metadata": {
  "language_info": {
   "name": "python"
  }
 },
 "nbformat": 4,
 "nbformat_minor": 2
}
