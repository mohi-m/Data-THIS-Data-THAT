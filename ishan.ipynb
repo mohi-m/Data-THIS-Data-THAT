{
 "cells": [
  {
   "cell_type": "code",
   "execution_count": 73,
   "metadata": {},
   "outputs": [
    {
     "name": "stdout",
     "output_type": "stream",
     "text": [
      "       current_account_nbr                                payment_hist_n_mths\n",
      "196629    00iP5U82D8XwVQ9G  AQBQQQQQQQQQQQQQQQQQQQQQQQQQQQQQQQQQQQQQQQQQQQ...\n",
      "40225     00oyr3QppAzjLws4  AQQQQQIZZZZZAIQQR#AZZZQQQQQQQQQQIQIIIIIIIQIIII...\n",
      "617691    01SEhQXHbPJRc1Go                           ZZZZZZZZZZZZZZZZZZZZZZZZ\n",
      "361226    01wbqz3obYPYxLvR                                               \\\\\\\\\n",
      "357731    020qpQKv0isIguXC                          AIIIIIIIIIIZZZZZZZZZZZZZZ\n",
      "...                    ...                                                ...\n",
      "116043    zzBy2qNM78aRV580                  IIIIIQIIQIIIIQIQQQQI-AIQQIIIIII0Z\n",
      "12245     zzEuUBBmvGiVnabb  -QQAQQQRQQQQQAQQQZAQQQBQQQQQQQQQQQQQQQQQQQQQQQ...\n",
      "84926     zzR9PvG7dY9u5iHU                                                 AQ\n",
      "299364    zzXGgGu6ysGwGH1J                                                  \\\n",
      "445591    zzztTVczEiGgAEJi  IZZZZZZZZZZZZZZQQ1QIIQIIIIIIQQQIQIIIIIIIZZZZZZ...\n",
      "\n",
      "[17613 rows x 2 columns]\n"
     ]
    }
   ],
   "source": [
    "#import dataset from local machine\n",
    "import pandas as pd\n",
    "import numpy as np\n",
    "import matplotlib.pyplot as plt\n",
    "import seaborn as sns\n",
    "\n",
    "# Load the dataset\n",
    "df = pd.read_csv('data/statement_fact_20250325.csv')\n",
    "\n",
    "#drop columns that are not needed\n",
    "df.drop(columns=['return_check_cnt_last_mth', 'return_check_cnt_ytd'])\n",
    "\n",
    "df = df[['current_account_nbr', 'billing_cycle_date', 'payment_hist_1_12_mths']]\n",
    "\n",
    "# Sorting data by account number and billing cycle date\n",
    "df_sorted = df.sort_values(by=['current_account_nbr', 'billing_cycle_date'])\n",
    "\n",
    "# Create a new column 'payment_hist_last_mth' to store the last month's payment history\n",
    "df_sorted['payment_hist_last_mth'] = df_sorted.groupby('current_account_nbr')['payment_hist_1_12_mths'].shift(0)\n",
    "\n",
    "# 'payment_hist_last_mth' should contain the left most character of 'payment_hist_1_12_mths'\n",
    "df_sorted['payment_hist_last_mth'] = df_sorted['payment_hist_last_mth'].str[0]\n",
    "\n",
    "# Aggregate the 'payment_hist_last_mth' values by concatenating them for each account\n",
    "df_sorted['payment_hist_n_mths'] = df_sorted.groupby('current_account_nbr')['payment_hist_last_mth'].transform(lambda x: ''.join(x))\n",
    "\n",
    "# Drop duplicate rows for each account number, keeping only one row per account\n",
    "df_unique = df_sorted.drop_duplicates(subset=['current_account_nbr'])\n",
    "\n",
    "# Display the result\n",
    "print(df_unique[['current_account_nbr', 'payment_hist_n_mths']])\n",
    "\n",
    "\n",
    "df_unique.to_csv('data/payment_hist_n_mths.csv', index=False)\n"
   ]
  },
  {
   "cell_type": "code",
   "execution_count": null,
   "metadata": {},
   "outputs": [],
   "source": []
  }
 ],
 "metadata": {
  "kernelspec": {
   "display_name": "myenv",
   "language": "python",
   "name": "python3"
  },
  "language_info": {
   "codemirror_mode": {
    "name": "ipython",
    "version": 3
   },
   "file_extension": ".py",
   "mimetype": "text/x-python",
   "name": "python",
   "nbconvert_exporter": "python",
   "pygments_lexer": "ipython3",
   "version": "3.10.13"
  }
 },
 "nbformat": 4,
 "nbformat_minor": 2
}
