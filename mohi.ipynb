{
 "cells": [
  {
   "cell_type": "code",
   "execution_count": 18,
   "metadata": {},
   "outputs": [
    {
     "name": "stdout",
     "output_type": "stream",
     "text": [
      "<class 'pandas.core.frame.DataFrame'>\n",
      "RangeIndex: 18070 entries, 0 to 18069\n",
      "Data columns (total 16 columns):\n",
      " #   Column                       Non-Null Count  Dtype  \n",
      "---  ------                       --------------  -----  \n",
      " 0   current_account_nbr          18070 non-null  object \n",
      " 1   client_id                    18070 non-null  object \n",
      " 2   open_date                    18070 non-null  object \n",
      " 3   card_activation_date         15223 non-null  object \n",
      " 4   card_activation_flag         18070 non-null  object \n",
      " 5   ebill_ind                    18052 non-null  object \n",
      " 6   date_in_collection           0 non-null      float64\n",
      " 7   overlimit_type_flag          18070 non-null  int64  \n",
      " 8   payment_hist_1_12_mths       18070 non-null  object \n",
      " 9   payment_hist_13_24_mths      18070 non-null  object \n",
      " 10  employee_code                3003 non-null   object \n",
      " 11  external_status_reason_code  18070 non-null  int64  \n",
      " 12  special_finance_charge_ind   0 non-null      float64\n",
      " 13  pscc_ind                     18070 non-null  int64  \n",
      " 14  ext_status_reason_cd_desc    2577 non-null   object \n",
      " 15  account_card_type            18070 non-null  object \n",
      "dtypes: float64(2), int64(3), object(11)\n",
      "memory usage: 2.2+ MB\n",
      "None\n"
     ]
    }
   ],
   "source": [
    "import pandas as pd\n",
    "import numpy as np\n",
    "\n",
    "account_file = 'data/account_dim_20250325.csv'\n",
    "account_df = pd.read_csv(account_file, dtype={'account_id': str})\n",
    "\n",
    "print(account_df.info())\n",
    "# account_df.head()"
   ]
  },
  {
   "cell_type": "markdown",
   "metadata": {},
   "source": [
    "# Data preprocessing"
   ]
  },
  {
   "cell_type": "code",
   "execution_count": null,
   "metadata": {},
   "outputs": [],
   "source": [
    "def pre_process_accounts(account_df):\n",
    "    \n",
    "    # drop duplicate rows\n",
    "    account_df.drop_duplicates(inplace=True)\n",
    "    \n",
    "    # drop useless columns\n",
    "    useless_column  = ['date_in_collection', # All values are null\n",
    "                       'special_finance_charge_ind', # All values are null\n",
    "                       'card_activation_date', # Redundant since we have card_activation_flag\n",
    "                       'ebill_ind', # Not usefull for computing credit_line increase\n",
    "                       'overlimit_type_flag', # All values are 0\n",
    "                       'external_status_reason_code' # Redundant with ext_status_reason_cd_desc\n",
    "                       ]\n",
    "    account_df.drop(columns=useless_column, inplace=True, errors='ignore')\n",
    "\n",
    "    # convert date columns to datetime\n",
    "    date_columns = ['open_date']\n",
    "    for col in date_columns:\n",
    "        account_df[col] = pd.to_datetime(account_df[col], errors='coerce')\n",
    "\n",
    "    # update the card_activation_flag to 0 or 1. Currently it has the following values: 0, 7, 8 and \\\\\\\\\\\\\"\". 0 mean activated and the rest are not activated.\n",
    "    account_df['card_activation_flag'] = account_df['card_activation_flag'].replace({'0': 1, '7': 0, '8': 0, '\\\\\\\\\\\\\"\"': 0})\n",
    "\n",
    "    # Clean and split payment_history column\n",
    "    account_df['payment_hist_1_12_mths'] = account_df['payment_hist_1_12_mths'].replace('\\\\\\\\\\\\\"\"', np.nan)\n",
    "    account_df['payment_hist_13_24_mths'] = account_df['payment_hist_13_24_mths'].replace('\\\\\\\\\\\\\"', np.nan)\n",
    "    # Create empty columns for each month\n",
    "    for i in range(24):\n",
    "        account_df[f\"Month_{i+1}\"] = account_df['payment_hist_1_12_mths'].apply(lambda x: x[i] if pd.notna(x) and i < len(x) else np.nan)\n",
    "        account_df[f\"Month_{i+13}\"] = account_df['payment_hist_13_24_mths'].apply(lambda x: x[i] if pd.notna(x) and i < len(x) else np.nan)\n",
    "\n",
    "    # Update the employee_code column. Currently it has the following values: H, Y and empty/na/null. Y mean employee, H means high spending customer and empty/na/null means normal customer. I want a separate column for high spending customer and employee. The rest are normal customers.\n",
    "    account_df['high_spending_customer'] = account_df['employee_code'].replace({'H': 1, 'Y': 0, '': 0, np.nan: 0})\n",
    "    account_df['employee_code'] = account_df['employee_code'].replace({'Y': 1, 'H': 0, '': 0, np.nan: 0})\n",
    "\n",
    "    \n",
    "\n",
    "    \n",
    "\n",
    "\n",
    "\n",
    "    return account_df\n",
    "\n",
    "\n"
   ]
  }
 ],
 "metadata": {
  "kernelspec": {
   "display_name": "prompter",
   "language": "python",
   "name": "python3"
  },
  "language_info": {
   "codemirror_mode": {
    "name": "ipython",
    "version": 3
   },
   "file_extension": ".py",
   "mimetype": "text/x-python",
   "name": "python",
   "nbconvert_exporter": "python",
   "pygments_lexer": "ipython3",
   "version": "3.10.13"
  }
 },
 "nbformat": 4,
 "nbformat_minor": 2
}
