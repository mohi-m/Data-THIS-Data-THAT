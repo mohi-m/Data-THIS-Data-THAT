{
 "cells": [
  {
   "cell_type": "markdown",
   "metadata": {},
   "source": [
    "# Risk Identification Model"
   ]
  },
  {
   "cell_type": "markdown",
   "metadata": {},
   "source": [
    "# Load The Dataset"
   ]
  },
  {
   "cell_type": "markdown",
   "metadata": {},
   "source": [
    "This code imports necessary libraries for data processing, modeling, and visualization. It uses *Pandas* and *NumPy* for data manipulation, while *scikit-learn* provides tools for building and evaluating an *Isolation Forest* model for anomaly detection. Additionally, *Matplotlib* and *Seaborn* are used for creating visualizations to interpret results. Five datasets containing account information, fraud claims, account features, statements, and transactions are loaded for analysis. These datasets will be used to identify anomalies and detect potentially fraudulent accounts."
   ]
  },
  {
   "cell_type": "code",
   "execution_count": 6,
   "metadata": {},
   "outputs": [],
   "source": [
    "# Import required libraries\n",
    "import pandas as pd\n",
    "import numpy as np\n",
    "from sklearn.ensemble import IsolationForest\n",
    "from sklearn.model_selection import train_test_split\n",
    "from sklearn.metrics import classification_report, roc_auc_score, confusion_matrix\n",
    "import matplotlib.pyplot as plt\n",
    "import seaborn as sns\n",
    "\n",
    "# Load datasets\n",
    "account_data = pd.read_csv('data/account_dim_20250325.csv')\n",
    "fraud_data = pd.read_csv('data/fraud_claim_case_20250325.csv')\n",
    "account_features = pd.read_csv('data/rams_batch_cur_20250325.csv')\n",
    "statement_data = pd.read_csv('data/statement_fact_20250325.csv')\n",
    "transaction_data = pd.read_csv('data/transaction_fact_20250325.csv')"
   ]
  },
  {
   "cell_type": "markdown",
   "metadata": {},
   "source": [
    "This section contains functions to clean and preprocess the datasets for further analysis. \n",
    "\n",
    "The *clean_rams()* function processes the account features dataset by converting dates, removing unnecessary columns, handling missing values, and replacing invalid values with meaningful ones. Similarly, the *clean_accounts()* function handles the account data, removing duplicates, filling missing values, and converting payment history into a usable format by creating separate month columns. High-spending customers are also identified based on specific flags.\n",
    "\n",
    "The *clean_transaction_data()* function removes irrelevant columns from the transaction data, reducing redundancy and ensuring only relevant information is retained. For fraud data, the *clean_fraud_data()* function creates flags to indicate if fraud occurred in the last 12 months and if the fraud amount exceeded $1000. Finally, the *encode_month_in_accounts()* function encodes payment history values into numeric representations for further analysis. After applying these functions, the cleaned datasets are ready for model building and anomaly detection."
   ]
  },
  {
   "cell_type": "code",
   "execution_count": 7,
   "metadata": {},
   "outputs": [
    {
     "name": "stderr",
     "output_type": "stream",
     "text": [
      "/var/folders/h7/qn2fn7996dn7y9sp2_ptj5h40000gn/T/ipykernel_14952/2618338422.py:81: FutureWarning: In a future version of pandas, parsing datetimes with mixed time zones will raise an error unless `utc=True`. Please specify `utc=True` to opt in to the new behaviour and silence this warning. To create a `Series` with mixed offsets and `object` dtype, please use `apply` and `datetime.datetime.strptime`\n",
      "  account_df[col] = pd.to_datetime(account_df[col], errors='coerce')\n",
      "/var/folders/h7/qn2fn7996dn7y9sp2_ptj5h40000gn/T/ipykernel_14952/2618338422.py:84: FutureWarning: Downcasting behavior in `replace` is deprecated and will be removed in a future version. To retain the old behavior, explicitly call `result.infer_objects(copy=False)`. To opt-in to the future behavior, set `pd.set_option('future.no_silent_downcasting', True)`\n",
      "  account_df['card_activation_flag'] = account_df['card_activation_flag'].replace({'0': 1, '7': 0, '8': 0, np.nan: 0})\n",
      "/var/folders/h7/qn2fn7996dn7y9sp2_ptj5h40000gn/T/ipykernel_14952/2618338422.py:97: FutureWarning: Downcasting behavior in `replace` is deprecated and will be removed in a future version. To retain the old behavior, explicitly call `result.infer_objects(copy=False)`. To opt-in to the future behavior, set `pd.set_option('future.no_silent_downcasting', True)`\n",
      "  account_df['high_spending_customer'] = account_df['employee_code'].replace({'H': 1, 'Y': 0, '': 0, np.nan: 0})\n",
      "/var/folders/h7/qn2fn7996dn7y9sp2_ptj5h40000gn/T/ipykernel_14952/2618338422.py:98: FutureWarning: Downcasting behavior in `replace` is deprecated and will be removed in a future version. To retain the old behavior, explicitly call `result.infer_objects(copy=False)`. To opt-in to the future behavior, set `pd.set_option('future.no_silent_downcasting', True)`\n",
      "  account_df['employee_code'] = account_df['employee_code'].replace({'Y': 1, 'H': 0, '': 0, np.nan: 0})\n",
      "/var/folders/h7/qn2fn7996dn7y9sp2_ptj5h40000gn/T/ipykernel_14952/2618338422.py:153: FutureWarning: DataFrame.applymap has been deprecated. Use DataFrame.map instead.\n",
      "  df[month_columns] = df[month_columns].applymap(lambda x: encoding_dict.get(x, 0))\n"
     ]
    }
   ],
   "source": [
    "# Function to clean the RAMS dataset\n",
    "def clean_rams(df):\n",
    "    # Convert date column to datetime format\n",
    "    df['cu_processing_date'] = pd.to_datetime(df['cu_processing_date'])\n",
    "\n",
    "    # Keep only the latest processing date for each account\n",
    "    latest_df = df.sort_values(by=['cu_processing_date'], ascending=False).drop_duplicates(subset=['cu_account_nbr'], keep='first')\n",
    "\n",
    "    # drop the ca_cash_bal_pct_crd_line column\n",
    "    df = df.drop(columns=['ca_cash_bal_pct_crd_line'])\n",
    "    # irrelevant column as the values are all 0\n",
    "\n",
    "    #drop the cu_nbr_days_dlq column\n",
    "    df = df.drop(columns=['cu_nbr_days_dlq'])\n",
    "    #redundant as theres a simialr column with months which is more useful\n",
    "\n",
    "    #drop the ca_cash_bal_pct_cash_line column\n",
    "    df = df.drop(columns=['ca_cash_bal_pct_cash_line'])\n",
    "\n",
    "    #For all values in column cu_crd_bureau_scr , replace the value 0 with median of the column cu_crd_bureau_scr\n",
    "    df['cu_crd_bureau_scr'] = df['cu_crd_bureau_scr'].replace(0, df['cu_crd_bureau_scr'].median())\n",
    "\n",
    "    #drop the column cu_next_crd_line_rev_date\n",
    "    df = df.drop(columns=['cu_next_crd_line_rev_date'])\n",
    "    #irrelevant column as majority values are 0\n",
    "\n",
    "    #dropping columns\n",
    "    useless_col = [\n",
    "        'cu_cur_balance',\n",
    "        'ca_mob',\n",
    "        'cu_rnd_nbr',\n",
    "        'rb_crd_gr_new_crd_gr',\n",
    "        'cu_processing_date',\n",
    "        'mo_tot_sales_array_1',\n",
    "        'mo_tot_sales_array_2',\n",
    "        'mo_tot_sales_array_3',\n",
    "        'mo_tot_sales_array_4',\n",
    "        'mo_tot_sales_array_5',\n",
    "        'mo_tot_sales_array_6'\n",
    "    ]\n",
    "\n",
    "    #Droping the above generated columns\n",
    "    df = df.drop(columns=useless_col)\n",
    "\n",
    "    # for the values 999999999999999 in cu_cash_line_am replace them with 20% of corresponding valur of cu_crd_bureau_scr column \n",
    "    df['cu_cash_line_am'] = df.apply(\n",
    "        lambda row: row['cu_crd_bureau_scr'] * 0.2 if row['cu_cash_line_am'] == 999999999999999 else row['cu_cash_line_am'],\n",
    "        axis=1\n",
    "    )\n",
    "    # round it off to 2 decimal places\n",
    "    df['cu_cash_line_am'] = df['cu_cash_line_am'].round(2)\n",
    "\n",
    "    #drop duplicate rows with duplicate values in the column cu_account_nbr\n",
    "    df = df.drop_duplicates(subset=['cu_account_nbr'])\n",
    "\n",
    "    return df\n",
    "\n",
    "# Function to clean the account dataset\n",
    "def clean_accounts(df):\n",
    "    account_df = df.copy()\n",
    "\n",
    "    # replace all \\\\\\\"\\\\\\\" values with NaN\n",
    "    account_df.replace(r'\\\\\\\"', np.nan, regex=True, inplace=True)\n",
    "\n",
    "    # drop duplicate rows\n",
    "    account_df.drop_duplicates(inplace=True)\n",
    "    \n",
    "    # drop useless columns\n",
    "    useless_column  = ['date_in_collection', # All values are null\n",
    "                       'special_finance_charge_ind', # All values are null\n",
    "                       'card_activation_date', # Redundant since we have card_activation_flag\n",
    "                       'ebill_ind', # Not usefull for computing credit_line increase\n",
    "                       'overlimit_type_flag', # All values are 0\n",
    "                       'external_status_reason_code' # Redundant with ext_status_reason_cd_desc\n",
    "                       ]\n",
    "    account_df.drop(columns=useless_column, inplace=True, errors='ignore')\n",
    "\n",
    "    # convert date columns to datetime\n",
    "    date_columns = ['open_date']\n",
    "    for col in date_columns:\n",
    "        account_df[col] = pd.to_datetime(account_df[col], errors='coerce')\n",
    "\n",
    "    # update the card_activation_flag to 0 or 1. \n",
    "    account_df['card_activation_flag'] = account_df['card_activation_flag'].replace({'0': 1, '7': 0, '8': 0, np.nan: 0})\n",
    "\n",
    "    # Create empty columns for each month\n",
    "    for i in range(12):\n",
    "        account_df[f\"Month_{i+1}\"] = account_df['payment_hist_1_12_mths'].apply(lambda x: x[i] if pd.notna(x) and i < len(x) else np.nan)\n",
    "\n",
    "    for i in range(12):\n",
    "        account_df[f\"Month_{i+13}\"] = account_df['payment_hist_13_24_mths'].apply(lambda x: x[i] if pd.notna(x) and i < len(x) else np.nan)\n",
    "\n",
    "    # Drop the original payment history columns\n",
    "    account_df.drop(columns=['payment_hist_1_12_mths', 'payment_hist_13_24_mths'], inplace=True)\n",
    "\n",
    "    # Update the employee_code column.\n",
    "    account_df['high_spending_customer'] = account_df['employee_code'].replace({'H': 1, 'Y': 0, '': 0, np.nan: 0})\n",
    "    account_df['employee_code'] = account_df['employee_code'].replace({'Y': 1, 'H': 0, '': 0, np.nan: 0})\n",
    "\n",
    "    return account_df\n",
    "\n",
    "# Function to clean the transaction dataset\n",
    "def clean_transaction_data(df):\n",
    "\n",
    "    df = df.copy()\n",
    "\n",
    "    uselss_column=[\n",
    "                'payment_type',\n",
    "                'transaction_return_cnt',\n",
    "                'transaction_sale_cnt',\n",
    "                'product_amt',\n",
    "                'product_qty',\n",
    "                'invoice_nbr',\n",
    "                'first_purchase_ind',\n",
    "                'adj_orgn_tran_dt',\n",
    "                'curr_markup_fee',\n",
    "                'fcr_amount',\n",
    "                'fcr_flag',\n",
    "                'fcr_rate_of_exchange',\n",
    "                'posting_date']\n",
    "    \n",
    "    #drop the useless columns\n",
    "    df.drop(uselss_column,axis=1,inplace=True)\n",
    "\n",
    "    return df\n",
    "\n",
    "# Clean fraud data\n",
    "def clean_fraud_data(df):\n",
    "    # Convert date columns to datetime\n",
    "    df['reported_date'] = pd.to_datetime(df['reported_date'], errors='coerce')\n",
    "\n",
    "    # create a new column which is set to 1 if fraud happened in the last 12 months and 0 otherwise\n",
    "    df['fraud_last_12_months'] = df['reported_date'].apply(lambda x: 1 if (pd.to_datetime('today') - x).days <= 365 else 0)\n",
    "    # create a new column which is set to 1 if fraud amount is greater than 1000 and 0 otherwise\n",
    "    df['fraud_amount_gt_1000'] = df['gross_fraud_amt'].apply(lambda x: 1 if x > 1000 else 0)\n",
    "\n",
    "    # drop all column except the current_account_nbr, fraud_last_12_months and fraud_amount_gt_1000\n",
    "    df = df[['current_account_nbr', 'fraud_last_12_months', 'fraud_amount_gt_1000']]\n",
    "\n",
    "    return df\n",
    "\n",
    "def encode_month_in_accounts(df):\n",
    "    # Define encoding dictionary\n",
    "    encoding_dict = {\n",
    "        '0': 0, '1': 1, '2': 2, '3': 3, '4': 4, '5': 5, '6': 6, '7': 7,  # No Activity\n",
    "        'A': 0, 'B': 1, 'C': 2, 'D': 3, 'E': 4, 'F': 5, 'G': 6, 'H': 7,  # Debit-Only Activity\n",
    "        'I': 0, 'J': 1, 'K': 2, 'L': 3, 'M': 4, 'N': 5, 'O': 6, 'P': 7,  # Credit-Only Activity\n",
    "        '%': 0, '#': 0, '+': 0, '--': 0, 'z': 0, 'Q': 0, 'Z': 0  # Neutral risk indicators\n",
    "    }\n",
    "    month_columns = ['Month_1', 'Month_2', 'Month_3', 'Month_4', 'Month_5', 'Month_6','Month_7', 'Month_8', 'Month_9', 'Month_10', 'Month_11', 'Month_12','Month_13', 'Month_14', 'Month_15', 'Month_16', 'Month_17', 'Month_18','Month_19', 'Month_20', 'Month_21', 'Month_22', 'Month_23', 'Month_24']\n",
    "    df[month_columns] = df[month_columns].astype(str)\n",
    "    # Apply encoding only to month columns\n",
    "    df[month_columns] = df[month_columns].applymap(lambda x: encoding_dict.get(x, 0))\n",
    "\n",
    "    return df\n",
    "\n",
    "account_data = clean_accounts(account_data)\n",
    "account_data = encode_month_in_accounts(account_data)\n",
    "account_features = clean_rams(account_features)\n",
    "transaction_data = clean_transaction_data(transaction_data)\n",
    "fraud_data = clean_fraud_data(fraud_data)"
   ]
  },
  {
   "cell_type": "markdown",
   "metadata": {},
   "source": [
    "This code merges multiple datasets using *current_account_nbr* as the primary key to create a comprehensive dataset for analysis. The account data is merged with the statement data, fraud data, and account features using a *left join*, ensuring that all accounts from the primary dataset are retained even if matching records are not available in the other datasets.\n",
    "\n",
    "The merged dataset consolidates account information, financial statements, fraud history, and account-level features into a single view. This enriched dataset will be useful for further analysis, model training, and anomaly detection. The shape of the merged data is printed to verify the number of rows and columns, providing a quick check on the success of the merge operation."
   ]
  },
  {
   "cell_type": "code",
   "execution_count": 8,
   "metadata": {},
   "outputs": [
    {
     "name": "stdout",
     "output_type": "stream",
     "text": [
      "Merged Data Shape: (658685, 60)\n"
     ]
    }
   ],
   "source": [
    "\n",
    "# Merge datasets on the primary key (current_account_nbr)\n",
    "merged_data = account_data.merge(statement_data, on=\"current_account_nbr\", how=\"left\") \\\n",
    "                          .merge(fraud_data, on=\"current_account_nbr\", how=\"left\") \\\n",
    "                          .merge(account_features, left_on=\"current_account_nbr\", right_on=\"cu_account_nbr\", how=\"left\")\n",
    "\n",
    "# Inspect merged data\n",
    "print(\"Merged Data Shape:\", merged_data.shape)\n",
    "\n"
   ]
  },
  {
   "cell_type": "markdown",
   "metadata": {},
   "source": [
    "This code performs additional data preprocessing by filtering and refining the merged dataset. \n",
    "\n",
    "First, it removes accounts with a *card activation flag* of ⁠ 0 ⁠, ensuring that only active accounts are retained for analysis. This is important because inactive accounts are irrelevant for detecting anomalies or identifying risks.\n",
    "\n",
    "Next, it creates a new feature called *Payment_Hist_Sum*, which is the sum of all monthly payment history columns. This provides a consolidated view of a customer’s payment behavior over the past two years, making it easier for the model to detect patterns.\n",
    "\n",
    "Finally, since the individual monthly columns are no longer needed after summing their values, they are dropped using the ⁠ drop() ⁠ function. This reduces data dimensionality, improving model efficiency and interpretability. The resulting dataset is clean, focused, and ready for further modeling."
   ]
  },
  {
   "cell_type": "code",
   "execution_count": 9,
   "metadata": {},
   "outputs": [],
   "source": [
    "# filter out the rows with 0 as activation flag\n",
    "merged_data = merged_data[merged_data['card_activation_flag'] == 1]\n",
    "\n",
    "merged_data['Payment_Hist_Sum'] = merged_data.filter(like='Month_').sum(axis=1)\n",
    "# Remove rows with all month columns\n",
    "merged_data = merged_data.drop(columns=[f'Month_{i}' for i in range(1, 25)])\n"
   ]
  },
  {
   "cell_type": "markdown",
   "metadata": {},
   "source": [
    "This code performs feature selection, trains an **Isolation Forest** model for anomaly detection, and visualizes the results.\n",
    "\n",
    "First, relevant features are selected from the cleaned dataset, focusing on factors like payment history, credit scores, account utilization, and fraud-related attributes. The data is then split into **training** and **testing** sets using an 80-20 ratio to ensure effective model evaluation.\n",
    "\n",
    "The **Isolation Forest** model is trained on the training set to identify anomalies, with hyperparameters like the number of estimators, contamination rate, and sampling size configured for optimal performance. After training, predictions are made on the test set, where anomalies are labeled as `1` and normal accounts as `0`.\n",
    "\n",
    "Finally, the results are visualized using a **pie chart** to show the proportion of anomalous and non-anomalous accounts. This helps in understanding the prevalence of suspicious activities within the dataset, providing actionable insights for fraud detection and risk management."
   ]
  },
  {
   "cell_type": "code",
   "execution_count": 10,
   "metadata": {},
   "outputs": [
    {
     "name": "stdout",
     "output_type": "stream",
     "text": [
      "Total Anomalous Accounts Detected: 5837\n"
     ]
    },
    {
     "data": {
      "image/png": "[encoded data removed]",
      "text/plain": [
       "<Figure size 800x800 with 1 Axes>"
      ]
     },
     "metadata": {},
     "output_type": "display_data"
    }
   ],
   "source": [
    "# Feature selection\n",
    "features = [\n",
    "    'Payment_Hist_Sum', 'cu_bhv_scr', 'ca_avg_utilz_lst_6_mnths', 'cu_crd_bureau_scr', 'cu_cur_nbr_due',\n",
    "    'ca_max_dlq_lst_6_mnths', 'ca_mnths_since_active', 'ca_mnths_since_cl_chng',\n",
    "    'ca_nsf_count_lst_12_months', 'fraud_amount_gt_1000',\n",
    "    'return_check_cnt_2yr', 'return_check_cnt_total'\n",
    "]\n",
    "\n",
    "# Select features for training\n",
    "X = merged_data[features]\n",
    "\n",
    "# Split the data into training and testing sets\n",
    "X_train, X_test = train_test_split(X, test_size=0.2, random_state=42)\n",
    "\n",
    "# Train Isolation Forest\n",
    "iso_forest = IsolationForest(\n",
    "    n_estimators=300, \n",
    "    max_samples=0.9, \n",
    "    contamination=0.05, \n",
    "    random_state=42, \n",
    "    bootstrap=True, \n",
    "    max_features=1.0  \n",
    ")\n",
    "iso_forest.fit(X_train)\n",
    "\n",
    "# Make predictions on test data\n",
    "y_pred = iso_forest.predict(X_test)\n",
    "\n",
    "# Convert predictions to binary risk labels: 1 (Anomalous), 0 (Normal)\n",
    "y_pred_labels = np.where(y_pred == -1, 1, 0)\n",
    "\n",
    "# Merge 'current_account_nbr' with X_test\n",
    "X_test_with_account_nbr = X_test.copy()\n",
    "X_test_with_account_nbr['current_account_nbr'] = merged_data.loc[X_test.index, 'current_account_nbr']\n",
    "X_test_with_account_nbr['Risk_Label'] = y_pred_labels\n",
    "\n",
    "# Identify anomalous and non-anomalous accounts\n",
    "anomalous_accounts = X_test_with_account_nbr[X_test_with_account_nbr['Risk_Label'] == 1].copy()\n",
    "non_anomalous_accounts = X_test_with_account_nbr[X_test_with_account_nbr['Risk_Label'] == 0].copy()\n",
    "\n",
    "# Print total anomalous accounts detected\n",
    "print(\"Total Anomalous Accounts Detected:\", len(anomalous_accounts))\n",
    "\n",
    "# Plot a pie chart for anomalous and non-anomalous accounts\n",
    "plt.figure(figsize=(8, 8))\n",
    "labels = ['Non-Anomalous', 'Anomalous']\n",
    "sizes = X_test_with_account_nbr['Risk_Label'].value_counts()\n",
    "colors = ['#66b3ff', '#ff9999']\n",
    "explode = (0.1, 0)  # explode the first slice (Non-Anomalous)\n",
    "\n",
    "plt.pie(sizes, labels=labels, colors=colors, explode=explode, autopct='%1.1f%%', startangle=140)\n",
    "plt.title('Distribution of Anomalous and Non-Anomalous Accounts')\n",
    "plt.show()\n"
   ]
  }
 ],
 "metadata": {
  "kernelspec": {
   "display_name": "myenv",
   "language": "python",
   "name": "python3"
  },
  "language_info": {
   "codemirror_mode": {
    "name": "ipython",
    "version": 3
   },
   "file_extension": ".py",
   "mimetype": "text/x-python",
   "name": "python",
   "nbconvert_exporter": "python",
   "pygments_lexer": "ipython3",
   "version": "3.12.9"
  }
 },
 "nbformat": 4,
 "nbformat_minor": 2
}
